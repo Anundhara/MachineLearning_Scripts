{
 "cells": [
  {
   "cell_type": "markdown",
   "metadata": {},
   "source": [
    "# Installing tensorflow module on mac\n",
    "\n",
    "Reference links:\n",
    "1. [Setting up a python environment with virtualenv, virtualenvwrapper and pip](https://coderwall.com/p/irxy3w/setting-up-a-python-environment-with-virtualenv-virtualenvwrapper-and-pip)\n",
    "\n",
    "2. [Installing TensorFlow on macOS]( https://www.tensorflow.org/install/install_mac)"
   ]
  }
 ],
 "metadata": {
  "kernelspec": {
   "display_name": "Python 3",
   "language": "python",
   "name": "python3"
  },
  "language_info": {
   "codemirror_mode": {
    "name": "ipython",
    "version": 3
   },
   "file_extension": ".py",
   "mimetype": "text/x-python",
   "name": "python",
   "nbconvert_exporter": "python",
   "pygments_lexer": "ipython3",
   "version": "3.6.2"
  }
 },
 "nbformat": 4,
 "nbformat_minor": 2
}
