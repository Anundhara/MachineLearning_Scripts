{
 "cells": [
  {
   "cell_type": "markdown",
   "metadata": {},
   "source": [
    "##  Document to illustrate the installation of R on Jupyter notebook\n",
    "\n",
    "\n",
    "[This is the source link](https://www.datacamp.com/community/blog/jupyter-notebook-r)\n",
    "\n",
    "\n",
    "#### Steps: \n",
    "1. Install Xcode if not already installed from the AppStore\n",
    "2. Launch R \n",
    "3. Run below command on R terminal\n",
    "\n",
    "    > `> install.packages(c('repr', 'IRdisplay', 'evaluate', 'crayon', 'pbdZMQ', 'devtools', 'uuid', 'digest'))`\n",
    "4. Next, execute below command\n",
    "\n",
    "    > `> devtools::install_github('IRkernel/IRkernel')`\n",
    "5. Install IRKernel for the current user\n",
    "\n",
    "    > `> IRkernel::installspec()`\n",
    "\n",
    "    Or install IRKernel system-wide\n",
    "\n",
    "    > `> IRkernel::installspec(user = FALSE)`\n",
    "    \n",
    "6. If the above command errors out with the below message:\n",
    "    > Error in IRkernel::installspec() : \n",
    "   > jupyter-client has to be installed but “jupyter kernelspec --version” exited with code 127.\n",
    "   \n",
    "   Then open Jupyter notebook terminal and run below command:\n",
    "   > `conda install -c r r-essentials`\n",
    "   \n",
    "7. Now, you should be able to see 'R' in the dropdown menu under 'New'"
   ]
  }
 ],
 "metadata": {
  "kernelspec": {
   "display_name": "R",
   "language": "R",
   "name": "ir"
  },
  "language_info": {
   "codemirror_mode": "r",
   "file_extension": ".r",
   "mimetype": "text/x-r-source",
   "name": "R",
   "pygments_lexer": "r",
   "version": "3.4.2"
  }
 },
 "nbformat": 4,
 "nbformat_minor": 2
}
